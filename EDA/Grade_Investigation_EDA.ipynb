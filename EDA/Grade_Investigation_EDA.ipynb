{
 "cells": [
  {
   "cell_type": "code",
   "execution_count": 1,
   "metadata": {},
   "outputs": [],
   "source": [
    "import pandas as pd\n",
    "import matplotlib.pyplot as plt\n",
    "%matplotlib inline\n",
    "\n",
    "import seaborn as sns\n",
    "import numpy as np"
   ]
  },
  {
   "cell_type": "code",
   "execution_count": 2,
   "metadata": {},
   "outputs": [
    {
     "data": {
      "text/html": [
       "<div>\n",
       "<style scoped>\n",
       "    .dataframe tbody tr th:only-of-type {\n",
       "        vertical-align: middle;\n",
       "    }\n",
       "\n",
       "    .dataframe tbody tr th {\n",
       "        vertical-align: top;\n",
       "    }\n",
       "\n",
       "    .dataframe thead th {\n",
       "        text-align: right;\n",
       "    }\n",
       "</style>\n",
       "<table border=\"1\" class=\"dataframe\">\n",
       "  <thead>\n",
       "    <tr style=\"text-align: right;\">\n",
       "      <th></th>\n",
       "      <th>price</th>\n",
       "      <th>bedrooms</th>\n",
       "      <th>bathrooms</th>\n",
       "      <th>sqft_living</th>\n",
       "      <th>sqft_lot</th>\n",
       "      <th>floors</th>\n",
       "      <th>view</th>\n",
       "      <th>condition</th>\n",
       "      <th>grade</th>\n",
       "      <th>sqft_above</th>\n",
       "      <th>...</th>\n",
       "      <th>distance_from_nearest_hotspot</th>\n",
       "      <th>year_last_renovated</th>\n",
       "      <th>time_since_renovated</th>\n",
       "      <th>total_rooms</th>\n",
       "      <th>condition_grade</th>\n",
       "      <th>sqft_total</th>\n",
       "      <th>price_o</th>\n",
       "      <th>rooms_cg</th>\n",
       "      <th>condition_grade_sq</th>\n",
       "      <th>time_since_renovated_sq</th>\n",
       "    </tr>\n",
       "  </thead>\n",
       "  <tbody>\n",
       "    <tr>\n",
       "      <td>0</td>\n",
       "      <td>12.309982</td>\n",
       "      <td>3</td>\n",
       "      <td>1.00</td>\n",
       "      <td>7.073270</td>\n",
       "      <td>5650</td>\n",
       "      <td>1.0</td>\n",
       "      <td>0</td>\n",
       "      <td>3</td>\n",
       "      <td>7</td>\n",
       "      <td>1180</td>\n",
       "      <td>...</td>\n",
       "      <td>2.662882</td>\n",
       "      <td>1955.0</td>\n",
       "      <td>60.0</td>\n",
       "      <td>4.00</td>\n",
       "      <td>10</td>\n",
       "      <td>7.073270</td>\n",
       "      <td>221900.0</td>\n",
       "      <td>14.00</td>\n",
       "      <td>100</td>\n",
       "      <td>3600.0</td>\n",
       "    </tr>\n",
       "    <tr>\n",
       "      <td>1</td>\n",
       "      <td>13.195614</td>\n",
       "      <td>3</td>\n",
       "      <td>2.25</td>\n",
       "      <td>7.851661</td>\n",
       "      <td>7242</td>\n",
       "      <td>2.0</td>\n",
       "      <td>0</td>\n",
       "      <td>3</td>\n",
       "      <td>7</td>\n",
       "      <td>2170</td>\n",
       "      <td>...</td>\n",
       "      <td>2.288785</td>\n",
       "      <td>1991.0</td>\n",
       "      <td>24.0</td>\n",
       "      <td>5.25</td>\n",
       "      <td>10</td>\n",
       "      <td>8.851661</td>\n",
       "      <td>538000.0</td>\n",
       "      <td>15.25</td>\n",
       "      <td>100</td>\n",
       "      <td>576.0</td>\n",
       "    </tr>\n",
       "    <tr>\n",
       "      <td>2</td>\n",
       "      <td>12.100712</td>\n",
       "      <td>2</td>\n",
       "      <td>1.00</td>\n",
       "      <td>6.646391</td>\n",
       "      <td>10000</td>\n",
       "      <td>1.0</td>\n",
       "      <td>0</td>\n",
       "      <td>3</td>\n",
       "      <td>6</td>\n",
       "      <td>770</td>\n",
       "      <td>...</td>\n",
       "      <td>2.311032</td>\n",
       "      <td>1933.0</td>\n",
       "      <td>82.0</td>\n",
       "      <td>3.00</td>\n",
       "      <td>9</td>\n",
       "      <td>6.646391</td>\n",
       "      <td>180000.0</td>\n",
       "      <td>12.00</td>\n",
       "      <td>81</td>\n",
       "      <td>6724.0</td>\n",
       "    </tr>\n",
       "    <tr>\n",
       "      <td>3</td>\n",
       "      <td>13.311329</td>\n",
       "      <td>4</td>\n",
       "      <td>3.00</td>\n",
       "      <td>7.580700</td>\n",
       "      <td>5000</td>\n",
       "      <td>1.0</td>\n",
       "      <td>0</td>\n",
       "      <td>5</td>\n",
       "      <td>7</td>\n",
       "      <td>1050</td>\n",
       "      <td>...</td>\n",
       "      <td>2.291486</td>\n",
       "      <td>1965.0</td>\n",
       "      <td>50.0</td>\n",
       "      <td>7.00</td>\n",
       "      <td>12</td>\n",
       "      <td>8.580700</td>\n",
       "      <td>604000.0</td>\n",
       "      <td>19.00</td>\n",
       "      <td>144</td>\n",
       "      <td>2500.0</td>\n",
       "    </tr>\n",
       "    <tr>\n",
       "      <td>4</td>\n",
       "      <td>13.142166</td>\n",
       "      <td>3</td>\n",
       "      <td>2.00</td>\n",
       "      <td>7.426549</td>\n",
       "      <td>8080</td>\n",
       "      <td>1.0</td>\n",
       "      <td>0</td>\n",
       "      <td>3</td>\n",
       "      <td>8</td>\n",
       "      <td>1680</td>\n",
       "      <td>...</td>\n",
       "      <td>1.540106</td>\n",
       "      <td>1987.0</td>\n",
       "      <td>28.0</td>\n",
       "      <td>5.00</td>\n",
       "      <td>11</td>\n",
       "      <td>7.426549</td>\n",
       "      <td>510000.0</td>\n",
       "      <td>16.00</td>\n",
       "      <td>121</td>\n",
       "      <td>784.0</td>\n",
       "    </tr>\n",
       "  </tbody>\n",
       "</table>\n",
       "<p>5 rows × 27 columns</p>\n",
       "</div>"
      ],
      "text/plain": [
       "       price  bedrooms  bathrooms  sqft_living  sqft_lot  floors  view  \\\n",
       "0  12.309982         3       1.00     7.073270      5650     1.0     0   \n",
       "1  13.195614         3       2.25     7.851661      7242     2.0     0   \n",
       "2  12.100712         2       1.00     6.646391     10000     1.0     0   \n",
       "3  13.311329         4       3.00     7.580700      5000     1.0     0   \n",
       "4  13.142166         3       2.00     7.426549      8080     1.0     0   \n",
       "\n",
       "   condition  grade  sqft_above  ...  distance_from_nearest_hotspot  \\\n",
       "0          3      7        1180  ...                       2.662882   \n",
       "1          3      7        2170  ...                       2.288785   \n",
       "2          3      6         770  ...                       2.311032   \n",
       "3          5      7        1050  ...                       2.291486   \n",
       "4          3      8        1680  ...                       1.540106   \n",
       "\n",
       "   year_last_renovated  time_since_renovated  total_rooms  condition_grade  \\\n",
       "0               1955.0                  60.0         4.00               10   \n",
       "1               1991.0                  24.0         5.25               10   \n",
       "2               1933.0                  82.0         3.00                9   \n",
       "3               1965.0                  50.0         7.00               12   \n",
       "4               1987.0                  28.0         5.00               11   \n",
       "\n",
       "   sqft_total   price_o  rooms_cg  condition_grade_sq  time_since_renovated_sq  \n",
       "0    7.073270  221900.0     14.00                 100                   3600.0  \n",
       "1    8.851661  538000.0     15.25                 100                    576.0  \n",
       "2    6.646391  180000.0     12.00                  81                   6724.0  \n",
       "3    8.580700  604000.0     19.00                 144                   2500.0  \n",
       "4    7.426549  510000.0     16.00                 121                    784.0  \n",
       "\n",
       "[5 rows x 27 columns]"
      ]
     },
     "execution_count": 2,
     "metadata": {},
     "output_type": "execute_result"
    }
   ],
   "source": [
    "df = pd.read_csv('../model_df.csv')\n",
    "df.head()"
   ]
  },
  {
   "cell_type": "markdown",
   "metadata": {},
   "source": [
    "# Does Grade of a house have an effect on price?"
   ]
  },
  {
   "cell_type": "code",
   "execution_count": 3,
   "metadata": {},
   "outputs": [
    {
     "data": {
      "text/plain": [
       "<seaborn.axisgrid.FacetGrid at 0x1eacf3cacc0>"
      ]
     },
     "execution_count": 3,
     "metadata": {},
     "output_type": "execute_result"
    },
    {
     "data": {
      "image/png": "[encoded data removed]",
      "text/plain": [
       "<Figure size 360x360 with 1 Axes>"
      ]
     },
     "metadata": {},
     "output_type": "display_data"
    }
   ],
   "source": [
    "sns.set()\n",
    "sns.lmplot(x= 'grade', y = 'price_o', data = df, line_kws={'color': 'red'})"
   ]
  },
  {
   "cell_type": "markdown",
   "metadata": {},
   "source": [
    "Here we can see that it is fairly evident that higher grade houses do seem to result in higher selling prices!"
   ]
  },
  {
   "cell_type": "code",
   "execution_count": 5,
   "metadata": {},
   "outputs": [
    {
     "data": {
      "text/plain": [
       "<seaborn.axisgrid.FacetGrid at 0x1eacf320860>"
      ]
     },
     "execution_count": 5,
     "metadata": {},
     "output_type": "execute_result"
    },
    {
     "data": {
      "image/png": "[encoded data removed]",
      "text/plain": [
       "<Figure size 360x360 with 1 Axes>"
      ]
     },
     "metadata": {},
     "output_type": "display_data"
    }
   ],
   "source": [
    "sns.set()\n",
    "sns.lmplot(x= 'grade', y = 'yr_built', data = df, line_kws={'color': 'red'})"
   ]
  },
  {
   "cell_type": "markdown",
   "metadata": {},
   "source": [
    "Interestingly enough, it also seems that more recent houses also seem to be higher grades. This could be a result of more strict building standards or better availability of quality materials. This is something would be interesting to investigate further."
   ]
  },
  {
   "cell_type": "code",
   "execution_count": null,
   "metadata": {},
   "outputs": [],
   "source": []
  }
 ],
 "metadata": {
  "kernelspec": {
   "display_name": "Python [conda env:learn-env] *",
   "language": "python",
   "name": "conda-env-learn-env-py"
  },
  "language_info": {
   "codemirror_mode": {
    "name": "ipython",
    "version": 3
   },
   "file_extension": ".py",
   "mimetype": "text/x-python",
   "name": "python",
   "nbconvert_exporter": "python",
   "pygments_lexer": "ipython3",
   "version": "3.6.9"
  }
 },
 "nbformat": 4,
 "nbformat_minor": 2
}
