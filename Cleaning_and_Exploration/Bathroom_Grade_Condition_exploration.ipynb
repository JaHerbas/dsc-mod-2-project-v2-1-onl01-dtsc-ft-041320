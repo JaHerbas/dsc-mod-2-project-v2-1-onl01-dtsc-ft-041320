{
 "cells": [
  {
   "cell_type": "code",
   "execution_count": 54,
   "metadata": {},
   "outputs": [],
   "source": [
    "import pandas as pd\n",
    "import seaborn as sns"
   ]
  },
  {
   "cell_type": "code",
   "execution_count": 93,
   "metadata": {},
   "outputs": [
    {
     "data": {
      "text/html": [
       "<div>\n",
       "<style scoped>\n",
       "    .dataframe tbody tr th:only-of-type {\n",
       "        vertical-align: middle;\n",
       "    }\n",
       "\n",
       "    .dataframe tbody tr th {\n",
       "        vertical-align: top;\n",
       "    }\n",
       "\n",
       "    .dataframe thead th {\n",
       "        text-align: right;\n",
       "    }\n",
       "</style>\n",
       "<table border=\"1\" class=\"dataframe\">\n",
       "  <thead>\n",
       "    <tr style=\"text-align: right;\">\n",
       "      <th></th>\n",
       "      <th>date</th>\n",
       "      <th>price</th>\n",
       "      <th>bedrooms</th>\n",
       "      <th>bathrooms</th>\n",
       "      <th>sqft_living</th>\n",
       "      <th>sqft_lot</th>\n",
       "      <th>floors</th>\n",
       "      <th>waterfront</th>\n",
       "      <th>view</th>\n",
       "      <th>condition</th>\n",
       "      <th>...</th>\n",
       "      <th>zipcode</th>\n",
       "      <th>lat</th>\n",
       "      <th>long</th>\n",
       "      <th>sqft_living15</th>\n",
       "      <th>sqft_lot15</th>\n",
       "      <th>basement</th>\n",
       "      <th>year</th>\n",
       "      <th>month</th>\n",
       "      <th>Renovated</th>\n",
       "      <th>age_when_sold</th>\n",
       "    </tr>\n",
       "  </thead>\n",
       "  <tbody>\n",
       "    <tr>\n",
       "      <td>0</td>\n",
       "      <td>2014-10-13</td>\n",
       "      <td>221900.0</td>\n",
       "      <td>3</td>\n",
       "      <td>1.00</td>\n",
       "      <td>1180</td>\n",
       "      <td>5650</td>\n",
       "      <td>1.0</td>\n",
       "      <td>0</td>\n",
       "      <td>0</td>\n",
       "      <td>3</td>\n",
       "      <td>...</td>\n",
       "      <td>98178</td>\n",
       "      <td>47.5112</td>\n",
       "      <td>-122.257</td>\n",
       "      <td>1340</td>\n",
       "      <td>5650</td>\n",
       "      <td>0</td>\n",
       "      <td>2014</td>\n",
       "      <td>October</td>\n",
       "      <td>0</td>\n",
       "      <td>59</td>\n",
       "    </tr>\n",
       "    <tr>\n",
       "      <td>1</td>\n",
       "      <td>2014-12-09</td>\n",
       "      <td>538000.0</td>\n",
       "      <td>3</td>\n",
       "      <td>2.25</td>\n",
       "      <td>2570</td>\n",
       "      <td>7242</td>\n",
       "      <td>2.0</td>\n",
       "      <td>0</td>\n",
       "      <td>0</td>\n",
       "      <td>3</td>\n",
       "      <td>...</td>\n",
       "      <td>98125</td>\n",
       "      <td>47.7210</td>\n",
       "      <td>-122.319</td>\n",
       "      <td>1690</td>\n",
       "      <td>7639</td>\n",
       "      <td>1</td>\n",
       "      <td>2014</td>\n",
       "      <td>December</td>\n",
       "      <td>1</td>\n",
       "      <td>63</td>\n",
       "    </tr>\n",
       "    <tr>\n",
       "      <td>2</td>\n",
       "      <td>2015-02-25</td>\n",
       "      <td>180000.0</td>\n",
       "      <td>2</td>\n",
       "      <td>1.00</td>\n",
       "      <td>770</td>\n",
       "      <td>10000</td>\n",
       "      <td>1.0</td>\n",
       "      <td>0</td>\n",
       "      <td>0</td>\n",
       "      <td>3</td>\n",
       "      <td>...</td>\n",
       "      <td>98028</td>\n",
       "      <td>47.7379</td>\n",
       "      <td>-122.233</td>\n",
       "      <td>2720</td>\n",
       "      <td>8062</td>\n",
       "      <td>0</td>\n",
       "      <td>2015</td>\n",
       "      <td>February</td>\n",
       "      <td>0</td>\n",
       "      <td>82</td>\n",
       "    </tr>\n",
       "    <tr>\n",
       "      <td>3</td>\n",
       "      <td>2014-12-09</td>\n",
       "      <td>604000.0</td>\n",
       "      <td>4</td>\n",
       "      <td>3.00</td>\n",
       "      <td>1960</td>\n",
       "      <td>5000</td>\n",
       "      <td>1.0</td>\n",
       "      <td>0</td>\n",
       "      <td>0</td>\n",
       "      <td>5</td>\n",
       "      <td>...</td>\n",
       "      <td>98136</td>\n",
       "      <td>47.5208</td>\n",
       "      <td>-122.393</td>\n",
       "      <td>1360</td>\n",
       "      <td>5000</td>\n",
       "      <td>1</td>\n",
       "      <td>2014</td>\n",
       "      <td>December</td>\n",
       "      <td>0</td>\n",
       "      <td>49</td>\n",
       "    </tr>\n",
       "    <tr>\n",
       "      <td>4</td>\n",
       "      <td>2015-02-18</td>\n",
       "      <td>510000.0</td>\n",
       "      <td>3</td>\n",
       "      <td>2.00</td>\n",
       "      <td>1680</td>\n",
       "      <td>8080</td>\n",
       "      <td>1.0</td>\n",
       "      <td>0</td>\n",
       "      <td>0</td>\n",
       "      <td>3</td>\n",
       "      <td>...</td>\n",
       "      <td>98074</td>\n",
       "      <td>47.6168</td>\n",
       "      <td>-122.045</td>\n",
       "      <td>1800</td>\n",
       "      <td>7503</td>\n",
       "      <td>0</td>\n",
       "      <td>2015</td>\n",
       "      <td>February</td>\n",
       "      <td>0</td>\n",
       "      <td>28</td>\n",
       "    </tr>\n",
       "  </tbody>\n",
       "</table>\n",
       "<p>5 rows × 25 columns</p>\n",
       "</div>"
      ],
      "text/plain": [
       "         date     price  bedrooms  bathrooms  sqft_living  sqft_lot  floors  \\\n",
       "0  2014-10-13  221900.0         3       1.00         1180      5650     1.0   \n",
       "1  2014-12-09  538000.0         3       2.25         2570      7242     2.0   \n",
       "2  2015-02-25  180000.0         2       1.00          770     10000     1.0   \n",
       "3  2014-12-09  604000.0         4       3.00         1960      5000     1.0   \n",
       "4  2015-02-18  510000.0         3       2.00         1680      8080     1.0   \n",
       "\n",
       "   waterfront  view  condition  ...  zipcode      lat     long  sqft_living15  \\\n",
       "0           0     0          3  ...    98178  47.5112 -122.257           1340   \n",
       "1           0     0          3  ...    98125  47.7210 -122.319           1690   \n",
       "2           0     0          3  ...    98028  47.7379 -122.233           2720   \n",
       "3           0     0          5  ...    98136  47.5208 -122.393           1360   \n",
       "4           0     0          3  ...    98074  47.6168 -122.045           1800   \n",
       "\n",
       "   sqft_lot15  basement  year     month  Renovated  age_when_sold  \n",
       "0        5650         0  2014   October          0             59  \n",
       "1        7639         1  2014  December          1             63  \n",
       "2        8062         0  2015  February          0             82  \n",
       "3        5000         1  2014  December          0             49  \n",
       "4        7503         0  2015  February          0             28  \n",
       "\n",
       "[5 rows x 25 columns]"
      ]
     },
     "execution_count": 93,
     "metadata": {},
     "output_type": "execute_result"
    }
   ],
   "source": [
    "df = pd.read_csv('master_df.csv')\n",
    "df.head()"
   ]
  },
  {
   "cell_type": "code",
   "execution_count": 94,
   "metadata": {},
   "outputs": [
    {
     "name": "stdout",
     "output_type": "stream",
     "text": [
      "<class 'pandas.core.frame.DataFrame'>\n",
      "RangeIndex: 21430 entries, 0 to 21429\n",
      "Data columns (total 25 columns):\n",
      "date             21430 non-null object\n",
      "price            21430 non-null float64\n",
      "bedrooms         21430 non-null int64\n",
      "bathrooms        21430 non-null float64\n",
      "sqft_living      21430 non-null int64\n",
      "sqft_lot         21430 non-null int64\n",
      "floors           21430 non-null float64\n",
      "waterfront       21430 non-null int64\n",
      "view             21430 non-null int64\n",
      "condition        21430 non-null int64\n",
      "grade            21430 non-null int64\n",
      "sqft_above       21430 non-null int64\n",
      "sqft_basement    21430 non-null float64\n",
      "yr_built         21430 non-null int64\n",
      "yr_renovated     21430 non-null int64\n",
      "zipcode          21430 non-null int64\n",
      "lat              21430 non-null float64\n",
      "long             21430 non-null float64\n",
      "sqft_living15    21430 non-null int64\n",
      "sqft_lot15       21430 non-null int64\n",
      "basement         21430 non-null int64\n",
      "year             21430 non-null int64\n",
      "month            21430 non-null object\n",
      "Renovated        21430 non-null int64\n",
      "age_when_sold    21430 non-null int64\n",
      "dtypes: float64(6), int64(17), object(2)\n",
      "memory usage: 4.1+ MB\n"
     ]
    }
   ],
   "source": [
    "df.info()"
   ]
  },
  {
   "cell_type": "code",
   "execution_count": 95,
   "metadata": {},
   "outputs": [
    {
     "data": {
      "text/plain": [
       "<seaborn.axisgrid.FacetGrid at 0x2d760549160>"
      ]
     },
     "execution_count": 95,
     "metadata": {},
     "output_type": "execute_result"
    },
    {
     "data": {
      "image/png": "[encoded data removed]",
      "text/plain": [
       "<Figure size 360x360 with 1 Axes>"
      ]
     },
     "metadata": {
      "needs_background": "light"
     },
     "output_type": "display_data"
    }
   ],
   "source": [
    "sns.lmplot(x= 'bathrooms', y = 'price', data = df)"
   ]
  },
  {
   "cell_type": "code",
   "execution_count": 96,
   "metadata": {},
   "outputs": [
    {
     "data": {
      "text/plain": [
       "2.50    5347\n",
       "1.00    3841\n",
       "1.75    3028\n",
       "2.25    2038\n",
       "2.00    1926\n",
       "1.50    1443\n",
       "2.75    1172\n",
       "3.00     744\n",
       "3.50     723\n",
       "3.25     574\n",
       "3.75     150\n",
       "4.00     130\n",
       "4.50      94\n",
       "4.25      75\n",
       "0.75      66\n",
       "4.75      19\n",
       "5.00      18\n",
       "5.25      12\n",
       "1.25       8\n",
       "5.50       6\n",
       "0.50       4\n",
       "6.00       3\n",
       "5.75       3\n",
       "6.50       2\n",
       "8.00       1\n",
       "7.50       1\n",
       "6.25       1\n",
       "6.75       1\n",
       "Name: bathrooms, dtype: int64"
      ]
     },
     "execution_count": 96,
     "metadata": {},
     "output_type": "execute_result"
    }
   ],
   "source": [
    "df['bathrooms'].value_counts()"
   ]
  },
  {
   "cell_type": "code",
   "execution_count": 97,
   "metadata": {},
   "outputs": [
    {
     "data": {
      "text/plain": [
       "7     8952\n",
       "8     6033\n",
       "9     2593\n",
       "6     2028\n",
       "10    1106\n",
       "11     380\n",
       "5      238\n",
       "12      72\n",
       "4       27\n",
       "3        1\n",
       "Name: grade, dtype: int64"
      ]
     },
     "execution_count": 97,
     "metadata": {},
     "output_type": "execute_result"
    }
   ],
   "source": [
    "df['grade'].value_counts()"
   ]
  },
  {
   "cell_type": "code",
   "execution_count": 98,
   "metadata": {},
   "outputs": [
    {
     "data": {
      "text/plain": [
       "3    13923\n",
       "4     5628\n",
       "5     1682\n",
       "2      169\n",
       "1       28\n",
       "Name: condition, dtype: int64"
      ]
     },
     "execution_count": 98,
     "metadata": {},
     "output_type": "execute_result"
    }
   ],
   "source": [
    "df['condition'].value_counts()"
   ]
  },
  {
   "cell_type": "markdown",
   "metadata": {},
   "source": [
    "Using bathrooms and grade as features we will limit our scope to no more than 4 bathrooms and our grade to the range of 6-10"
   ]
  },
  {
   "cell_type": "code",
   "execution_count": 99,
   "metadata": {},
   "outputs": [],
   "source": [
    "df = df.loc[(df['grade'] > 5)]"
   ]
  },
  {
   "cell_type": "code",
   "execution_count": 100,
   "metadata": {},
   "outputs": [
    {
     "name": "stdout",
     "output_type": "stream",
     "text": [
      "<class 'pandas.core.frame.DataFrame'>\n",
      "Int64Index: 21164 entries, 0 to 21429\n",
      "Data columns (total 25 columns):\n",
      "date             21164 non-null object\n",
      "price            21164 non-null float64\n",
      "bedrooms         21164 non-null int64\n",
      "bathrooms        21164 non-null float64\n",
      "sqft_living      21164 non-null int64\n",
      "sqft_lot         21164 non-null int64\n",
      "floors           21164 non-null float64\n",
      "waterfront       21164 non-null int64\n",
      "view             21164 non-null int64\n",
      "condition        21164 non-null int64\n",
      "grade            21164 non-null int64\n",
      "sqft_above       21164 non-null int64\n",
      "sqft_basement    21164 non-null float64\n",
      "yr_built         21164 non-null int64\n",
      "yr_renovated     21164 non-null int64\n",
      "zipcode          21164 non-null int64\n",
      "lat              21164 non-null float64\n",
      "long             21164 non-null float64\n",
      "sqft_living15    21164 non-null int64\n",
      "sqft_lot15       21164 non-null int64\n",
      "basement         21164 non-null int64\n",
      "year             21164 non-null int64\n",
      "month            21164 non-null object\n",
      "Renovated        21164 non-null int64\n",
      "age_when_sold    21164 non-null int64\n",
      "dtypes: float64(6), int64(17), object(2)\n",
      "memory usage: 4.2+ MB\n"
     ]
    }
   ],
   "source": [
    "df.info()"
   ]
  },
  {
   "cell_type": "code",
   "execution_count": 101,
   "metadata": {},
   "outputs": [
    {
     "data": {
      "text/plain": [
       "7     8952\n",
       "8     6033\n",
       "9     2593\n",
       "6     2028\n",
       "10    1106\n",
       "11     380\n",
       "12      72\n",
       "Name: grade, dtype: int64"
      ]
     },
     "execution_count": 101,
     "metadata": {},
     "output_type": "execute_result"
    }
   ],
   "source": [
    "df['grade'].value_counts()"
   ]
  },
  {
   "cell_type": "code",
   "execution_count": 102,
   "metadata": {},
   "outputs": [],
   "source": [
    "df = df.loc[(df['grade'] < 11)]"
   ]
  },
  {
   "cell_type": "code",
   "execution_count": 103,
   "metadata": {},
   "outputs": [
    {
     "data": {
      "text/plain": [
       "7     8952\n",
       "8     6033\n",
       "9     2593\n",
       "6     2028\n",
       "10    1106\n",
       "Name: grade, dtype: int64"
      ]
     },
     "execution_count": 103,
     "metadata": {},
     "output_type": "execute_result"
    }
   ],
   "source": [
    "df['grade'].value_counts()"
   ]
  },
  {
   "cell_type": "code",
   "execution_count": 104,
   "metadata": {},
   "outputs": [
    {
     "name": "stdout",
     "output_type": "stream",
     "text": [
      "<class 'pandas.core.frame.DataFrame'>\n",
      "Int64Index: 20712 entries, 0 to 21429\n",
      "Data columns (total 25 columns):\n",
      "date             20712 non-null object\n",
      "price            20712 non-null float64\n",
      "bedrooms         20712 non-null int64\n",
      "bathrooms        20712 non-null float64\n",
      "sqft_living      20712 non-null int64\n",
      "sqft_lot         20712 non-null int64\n",
      "floors           20712 non-null float64\n",
      "waterfront       20712 non-null int64\n",
      "view             20712 non-null int64\n",
      "condition        20712 non-null int64\n",
      "grade            20712 non-null int64\n",
      "sqft_above       20712 non-null int64\n",
      "sqft_basement    20712 non-null float64\n",
      "yr_built         20712 non-null int64\n",
      "yr_renovated     20712 non-null int64\n",
      "zipcode          20712 non-null int64\n",
      "lat              20712 non-null float64\n",
      "long             20712 non-null float64\n",
      "sqft_living15    20712 non-null int64\n",
      "sqft_lot15       20712 non-null int64\n",
      "basement         20712 non-null int64\n",
      "year             20712 non-null int64\n",
      "month            20712 non-null object\n",
      "Renovated        20712 non-null int64\n",
      "age_when_sold    20712 non-null int64\n",
      "dtypes: float64(6), int64(17), object(2)\n",
      "memory usage: 4.1+ MB\n"
     ]
    }
   ],
   "source": [
    "df.info()"
   ]
  },
  {
   "cell_type": "code",
   "execution_count": 105,
   "metadata": {},
   "outputs": [
    {
     "data": {
      "text/plain": [
       "3    13433\n",
       "4     5475\n",
       "5     1635\n",
       "2      150\n",
       "1       19\n",
       "Name: condition, dtype: int64"
      ]
     },
     "execution_count": 105,
     "metadata": {},
     "output_type": "execute_result"
    }
   ],
   "source": [
    "df['condition'].value_counts()"
   ]
  },
  {
   "cell_type": "code",
   "execution_count": 106,
   "metadata": {},
   "outputs": [
    {
     "data": {
      "text/plain": [
       "2.50    5274\n",
       "1.00    3640\n",
       "1.75    3017\n",
       "2.25    2033\n",
       "2.00    1909\n",
       "1.50    1433\n",
       "2.75    1155\n",
       "3.00     726\n",
       "3.50     625\n",
       "3.25     506\n",
       "3.75     118\n",
       "4.00      90\n",
       "4.50      63\n",
       "4.25      46\n",
       "0.75      40\n",
       "4.75       9\n",
       "5.00       9\n",
       "1.25       7\n",
       "5.25       5\n",
       "0.50       3\n",
       "7.50       1\n",
       "5.50       1\n",
       "6.00       1\n",
       "5.75       1\n",
       "Name: bathrooms, dtype: int64"
      ]
     },
     "execution_count": 106,
     "metadata": {},
     "output_type": "execute_result"
    }
   ],
   "source": [
    "df['bathrooms'].value_counts()"
   ]
  },
  {
   "cell_type": "code",
   "execution_count": 107,
   "metadata": {},
   "outputs": [],
   "source": [
    "df = df.loc[(df['bathrooms'] < 4.25)]"
   ]
  },
  {
   "cell_type": "code",
   "execution_count": 108,
   "metadata": {},
   "outputs": [
    {
     "data": {
      "text/plain": [
       "2.50    5274\n",
       "1.00    3640\n",
       "1.75    3017\n",
       "2.25    2033\n",
       "2.00    1909\n",
       "1.50    1433\n",
       "2.75    1155\n",
       "3.00     726\n",
       "3.50     625\n",
       "3.25     506\n",
       "3.75     118\n",
       "4.00      90\n",
       "0.75      40\n",
       "1.25       7\n",
       "0.50       3\n",
       "Name: bathrooms, dtype: int64"
      ]
     },
     "execution_count": 108,
     "metadata": {},
     "output_type": "execute_result"
    }
   ],
   "source": [
    "df['bathrooms'].value_counts()"
   ]
  },
  {
   "cell_type": "code",
   "execution_count": 109,
   "metadata": {},
   "outputs": [
    {
     "name": "stdout",
     "output_type": "stream",
     "text": [
      "<class 'pandas.core.frame.DataFrame'>\n",
      "Int64Index: 20576 entries, 0 to 21429\n",
      "Data columns (total 25 columns):\n",
      "date             20576 non-null object\n",
      "price            20576 non-null float64\n",
      "bedrooms         20576 non-null int64\n",
      "bathrooms        20576 non-null float64\n",
      "sqft_living      20576 non-null int64\n",
      "sqft_lot         20576 non-null int64\n",
      "floors           20576 non-null float64\n",
      "waterfront       20576 non-null int64\n",
      "view             20576 non-null int64\n",
      "condition        20576 non-null int64\n",
      "grade            20576 non-null int64\n",
      "sqft_above       20576 non-null int64\n",
      "sqft_basement    20576 non-null float64\n",
      "yr_built         20576 non-null int64\n",
      "yr_renovated     20576 non-null int64\n",
      "zipcode          20576 non-null int64\n",
      "lat              20576 non-null float64\n",
      "long             20576 non-null float64\n",
      "sqft_living15    20576 non-null int64\n",
      "sqft_lot15       20576 non-null int64\n",
      "basement         20576 non-null int64\n",
      "year             20576 non-null int64\n",
      "month            20576 non-null object\n",
      "Renovated        20576 non-null int64\n",
      "age_when_sold    20576 non-null int64\n",
      "dtypes: float64(6), int64(17), object(2)\n",
      "memory usage: 4.1+ MB\n"
     ]
    }
   ],
   "source": [
    "df.info()"
   ]
  },
  {
   "cell_type": "code",
   "execution_count": 110,
   "metadata": {},
   "outputs": [],
   "source": [
    "df = df.loc[(df['bathrooms'] > .8 )]\n",
    "df = df.loc[(df['bathrooms'] != 1.25)]"
   ]
  },
  {
   "cell_type": "code",
   "execution_count": 111,
   "metadata": {},
   "outputs": [
    {
     "data": {
      "text/plain": [
       "<matplotlib.axes._subplots.AxesSubplot at 0x2d760c8c6a0>"
      ]
     },
     "execution_count": 111,
     "metadata": {},
     "output_type": "execute_result"
    },
    {
     "data": {
      "image/png": "[encoded data removed]",
      "text/plain": [
       "<Figure size 432x288 with 1 Axes>"
      ]
     },
     "metadata": {
      "needs_background": "light"
     },
     "output_type": "display_data"
    }
   ],
   "source": [
    "df['price'].hist(bins = 'auto')"
   ]
  },
  {
   "cell_type": "code",
   "execution_count": 112,
   "metadata": {},
   "outputs": [],
   "source": [
    "df = df.loc[df['price'] < 2000000]\n",
    "df.drop('date', axis = 1, inplace = True)"
   ]
  },
  {
   "cell_type": "code",
   "execution_count": 113,
   "metadata": {},
   "outputs": [
    {
     "data": {
      "text/html": [
       "<div>\n",
       "<style scoped>\n",
       "    .dataframe tbody tr th:only-of-type {\n",
       "        vertical-align: middle;\n",
       "    }\n",
       "\n",
       "    .dataframe tbody tr th {\n",
       "        vertical-align: top;\n",
       "    }\n",
       "\n",
       "    .dataframe thead th {\n",
       "        text-align: right;\n",
       "    }\n",
       "</style>\n",
       "<table border=\"1\" class=\"dataframe\">\n",
       "  <thead>\n",
       "    <tr style=\"text-align: right;\">\n",
       "      <th></th>\n",
       "      <th>price</th>\n",
       "      <th>bedrooms</th>\n",
       "      <th>bathrooms</th>\n",
       "      <th>sqft_living</th>\n",
       "      <th>sqft_lot</th>\n",
       "      <th>floors</th>\n",
       "      <th>waterfront</th>\n",
       "      <th>view</th>\n",
       "      <th>condition</th>\n",
       "      <th>grade</th>\n",
       "      <th>...</th>\n",
       "      <th>zipcode</th>\n",
       "      <th>lat</th>\n",
       "      <th>long</th>\n",
       "      <th>sqft_living15</th>\n",
       "      <th>sqft_lot15</th>\n",
       "      <th>basement</th>\n",
       "      <th>year</th>\n",
       "      <th>month</th>\n",
       "      <th>Renovated</th>\n",
       "      <th>age_when_sold</th>\n",
       "    </tr>\n",
       "  </thead>\n",
       "  <tbody>\n",
       "    <tr>\n",
       "      <td>0</td>\n",
       "      <td>221900.0</td>\n",
       "      <td>3</td>\n",
       "      <td>1.00</td>\n",
       "      <td>1180</td>\n",
       "      <td>5650</td>\n",
       "      <td>1.0</td>\n",
       "      <td>0</td>\n",
       "      <td>0</td>\n",
       "      <td>3</td>\n",
       "      <td>7</td>\n",
       "      <td>...</td>\n",
       "      <td>98178</td>\n",
       "      <td>47.5112</td>\n",
       "      <td>-122.257</td>\n",
       "      <td>1340</td>\n",
       "      <td>5650</td>\n",
       "      <td>0</td>\n",
       "      <td>2014</td>\n",
       "      <td>October</td>\n",
       "      <td>0</td>\n",
       "      <td>59</td>\n",
       "    </tr>\n",
       "    <tr>\n",
       "      <td>1</td>\n",
       "      <td>538000.0</td>\n",
       "      <td>3</td>\n",
       "      <td>2.25</td>\n",
       "      <td>2570</td>\n",
       "      <td>7242</td>\n",
       "      <td>2.0</td>\n",
       "      <td>0</td>\n",
       "      <td>0</td>\n",
       "      <td>3</td>\n",
       "      <td>7</td>\n",
       "      <td>...</td>\n",
       "      <td>98125</td>\n",
       "      <td>47.7210</td>\n",
       "      <td>-122.319</td>\n",
       "      <td>1690</td>\n",
       "      <td>7639</td>\n",
       "      <td>1</td>\n",
       "      <td>2014</td>\n",
       "      <td>December</td>\n",
       "      <td>1</td>\n",
       "      <td>63</td>\n",
       "    </tr>\n",
       "    <tr>\n",
       "      <td>2</td>\n",
       "      <td>180000.0</td>\n",
       "      <td>2</td>\n",
       "      <td>1.00</td>\n",
       "      <td>770</td>\n",
       "      <td>10000</td>\n",
       "      <td>1.0</td>\n",
       "      <td>0</td>\n",
       "      <td>0</td>\n",
       "      <td>3</td>\n",
       "      <td>6</td>\n",
       "      <td>...</td>\n",
       "      <td>98028</td>\n",
       "      <td>47.7379</td>\n",
       "      <td>-122.233</td>\n",
       "      <td>2720</td>\n",
       "      <td>8062</td>\n",
       "      <td>0</td>\n",
       "      <td>2015</td>\n",
       "      <td>February</td>\n",
       "      <td>0</td>\n",
       "      <td>82</td>\n",
       "    </tr>\n",
       "    <tr>\n",
       "      <td>3</td>\n",
       "      <td>604000.0</td>\n",
       "      <td>4</td>\n",
       "      <td>3.00</td>\n",
       "      <td>1960</td>\n",
       "      <td>5000</td>\n",
       "      <td>1.0</td>\n",
       "      <td>0</td>\n",
       "      <td>0</td>\n",
       "      <td>5</td>\n",
       "      <td>7</td>\n",
       "      <td>...</td>\n",
       "      <td>98136</td>\n",
       "      <td>47.5208</td>\n",
       "      <td>-122.393</td>\n",
       "      <td>1360</td>\n",
       "      <td>5000</td>\n",
       "      <td>1</td>\n",
       "      <td>2014</td>\n",
       "      <td>December</td>\n",
       "      <td>0</td>\n",
       "      <td>49</td>\n",
       "    </tr>\n",
       "    <tr>\n",
       "      <td>4</td>\n",
       "      <td>510000.0</td>\n",
       "      <td>3</td>\n",
       "      <td>2.00</td>\n",
       "      <td>1680</td>\n",
       "      <td>8080</td>\n",
       "      <td>1.0</td>\n",
       "      <td>0</td>\n",
       "      <td>0</td>\n",
       "      <td>3</td>\n",
       "      <td>8</td>\n",
       "      <td>...</td>\n",
       "      <td>98074</td>\n",
       "      <td>47.6168</td>\n",
       "      <td>-122.045</td>\n",
       "      <td>1800</td>\n",
       "      <td>7503</td>\n",
       "      <td>0</td>\n",
       "      <td>2015</td>\n",
       "      <td>February</td>\n",
       "      <td>0</td>\n",
       "      <td>28</td>\n",
       "    </tr>\n",
       "  </tbody>\n",
       "</table>\n",
       "<p>5 rows × 24 columns</p>\n",
       "</div>"
      ],
      "text/plain": [
       "      price  bedrooms  bathrooms  sqft_living  sqft_lot  floors  waterfront  \\\n",
       "0  221900.0         3       1.00         1180      5650     1.0           0   \n",
       "1  538000.0         3       2.25         2570      7242     2.0           0   \n",
       "2  180000.0         2       1.00          770     10000     1.0           0   \n",
       "3  604000.0         4       3.00         1960      5000     1.0           0   \n",
       "4  510000.0         3       2.00         1680      8080     1.0           0   \n",
       "\n",
       "   view  condition  grade  ...  zipcode      lat     long  sqft_living15  \\\n",
       "0     0          3      7  ...    98178  47.5112 -122.257           1340   \n",
       "1     0          3      7  ...    98125  47.7210 -122.319           1690   \n",
       "2     0          3      6  ...    98028  47.7379 -122.233           2720   \n",
       "3     0          5      7  ...    98136  47.5208 -122.393           1360   \n",
       "4     0          3      8  ...    98074  47.6168 -122.045           1800   \n",
       "\n",
       "   sqft_lot15  basement  year     month  Renovated  age_when_sold  \n",
       "0        5650         0  2014   October          0             59  \n",
       "1        7639         1  2014  December          1             63  \n",
       "2        8062         0  2015  February          0             82  \n",
       "3        5000         1  2014  December          0             49  \n",
       "4        7503         0  2015  February          0             28  \n",
       "\n",
       "[5 rows x 24 columns]"
      ]
     },
     "execution_count": 113,
     "metadata": {},
     "output_type": "execute_result"
    }
   ],
   "source": [
    "df.head()"
   ]
  },
  {
   "cell_type": "code",
   "execution_count": 85,
   "metadata": {},
   "outputs": [],
   "source": [
    "# df = pd.get_dummies(df, drop_first = True)"
   ]
  },
  {
   "cell_type": "code",
   "execution_count": 89,
   "metadata": {},
   "outputs": [
    {
     "data": {
      "text/plain": [
       "count    2.047300e+04\n",
       "mean     5.035966e+05\n",
       "std      2.580058e+05\n",
       "min      8.200000e+04\n",
       "25%      3.200000e+05\n",
       "50%      4.450000e+05\n",
       "75%      6.200000e+05\n",
       "max      1.990000e+06\n",
       "Name: price, dtype: float64"
      ]
     },
     "execution_count": 89,
     "metadata": {},
     "output_type": "execute_result"
    }
   ],
   "source": [
    "df['price'].describe()"
   ]
  },
  {
   "cell_type": "code",
   "execution_count": 114,
   "metadata": {},
   "outputs": [],
   "source": [
    "df = df.drop(columns=['lat', 'long', 'zipcode', 'waterfront', 'month' ] )"
   ]
  },
  {
   "cell_type": "code",
   "execution_count": 115,
   "metadata": {},
   "outputs": [],
   "source": [
    "df.to_csv('test_filtered_df.csv', index = False)"
   ]
  },
  {
   "cell_type": "code",
   "execution_count": null,
   "metadata": {},
   "outputs": [],
   "source": []
  }
 ],
 "metadata": {
  "kernelspec": {
   "display_name": "Python [conda env:learn-env] *",
   "language": "python",
   "name": "conda-env-learn-env-py"
  },
  "language_info": {
   "codemirror_mode": {
    "name": "ipython",
    "version": 3
   },
   "file_extension": ".py",
   "mimetype": "text/x-python",
   "name": "python",
   "nbconvert_exporter": "python",
   "pygments_lexer": "ipython3",
   "version": "3.6.9"
  }
 },
 "nbformat": 4,
 "nbformat_minor": 2
}
